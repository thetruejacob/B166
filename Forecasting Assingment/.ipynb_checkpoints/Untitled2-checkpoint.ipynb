{
 "cells": [
  {
   "cell_type": "code",
   "execution_count": null,
   "metadata": {},
   "outputs": [],
   "source": [
    "library(GPFDA)\n",
    "data(co2)\n",
    "data_co2=co2\n",
    "# store data into matrix and remove missing values\n",
    "y=data.matrix(data_co2[,!names(data_co2)%in%'Annual_Average'])\n",
    "data_co2[,!names(data_co2)%in%'Annual_Average']\n",
    "y=matrix(t(y),ncol=1)\n",
    "x=1:612/12; x[y<0]=NA\n",
    "mat=cbind(y,x)\n",
    "mat=na.omit(mat)\n",
    "X=as.matrix(mat[,2])\n",
    "Y=as.matrix(mat[,1])\n",
    "x=as.matrix(seq(1,612,len=1000)/12)"
   ]
  }
 ],
 "metadata": {
  "kernelspec": {
   "display_name": "R",
   "language": "R",
   "name": "ir"
  },
  "language_info": {
   "codemirror_mode": "r",
   "file_extension": ".r",
   "mimetype": "text/x-r-source",
   "name": "R",
   "pygments_lexer": "r",
   "version": "3.4.3"
  }
 },
 "nbformat": 4,
 "nbformat_minor": 2
}
